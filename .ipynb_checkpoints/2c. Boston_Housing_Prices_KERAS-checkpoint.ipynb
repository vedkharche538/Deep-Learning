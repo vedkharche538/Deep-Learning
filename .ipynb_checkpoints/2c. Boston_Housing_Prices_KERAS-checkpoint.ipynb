{
 "cells": [
  {
   "cell_type": "markdown",
   "metadata": {
    "slideshow": {
     "slide_type": "slide"
    }
   },
   "source": [
    "### Load tensorflow"
   ]
  },
  {
   "cell_type": "code",
   "execution_count": 1,
   "metadata": {},
   "outputs": [],
   "source": [
    "import tensorflow as tf\n",
    "tf.reset_default_graph()"
   ]
  },
  {
   "cell_type": "code",
   "execution_count": 2,
   "metadata": {},
   "outputs": [
    {
     "data": {
      "text/plain": [
       "'2.2.4-tf'"
      ]
     },
     "execution_count": 2,
     "metadata": {},
     "output_type": "execute_result"
    }
   ],
   "source": [
    "tf.keras.__version__"
   ]
  },
  {
   "cell_type": "code",
   "execution_count": 3,
   "metadata": {},
   "outputs": [
    {
     "name": "stderr",
     "output_type": "stream",
     "text": [
      "Using TensorFlow backend.\n"
     ]
    }
   ],
   "source": [
    "import keras"
   ]
  },
  {
   "cell_type": "code",
   "execution_count": 4,
   "metadata": {},
   "outputs": [
    {
     "data": {
      "text/plain": [
       "'2.2.4'"
      ]
     },
     "execution_count": 4,
     "metadata": {},
     "output_type": "execute_result"
    }
   ],
   "source": [
    "keras.__version__"
   ]
  },
  {
   "cell_type": "markdown",
   "metadata": {
    "slideshow": {
     "slide_type": "slide"
    }
   },
   "source": [
    "### Collect Data"
   ]
  },
  {
   "cell_type": "code",
   "execution_count": 5,
   "metadata": {},
   "outputs": [],
   "source": [
    "(features, actual_prices),_ = tf.keras.datasets.boston_housing.load_data(test_split=0)"
   ]
  },
  {
   "cell_type": "code",
   "execution_count": 6,
   "metadata": {
    "slideshow": {
     "slide_type": "fragment"
    }
   },
   "outputs": [
    {
     "name": "stdout",
     "output_type": "stream",
     "text": [
      "Number of examples:  506\n",
      "Number of features for each example:  13\n",
      "Shape of actual prices data:  (506,)\n"
     ]
    }
   ],
   "source": [
    "print('Number of examples: ', features.shape[0])\n",
    "print('Number of features for each example: ', features.shape[1])\n",
    "print('Shape of actual prices data: ', actual_prices.shape)"
   ]
  },
  {
   "cell_type": "markdown",
   "metadata": {
    "slideshow": {
     "slide_type": "slide"
    }
   },
   "source": [
    "### Building the graph in Keras"
   ]
  },
  {
   "cell_type": "code",
   "execution_count": 7,
   "metadata": {
    "slideshow": {
     "slide_type": "fragment"
    }
   },
   "outputs": [
    {
     "name": "stdout",
     "output_type": "stream",
     "text": [
      "WARNING:tensorflow:From /Users/vaibhavverdhan/anaconda3/lib/python3.6/site-packages/tensorflow/python/ops/resource_variable_ops.py:435: colocate_with (from tensorflow.python.framework.ops) is deprecated and will be removed in a future version.\n",
      "Instructions for updating:\n",
      "Colocations handled automatically by placer.\n",
      "WARNING:tensorflow:From /Users/vaibhavverdhan/anaconda3/lib/python3.6/site-packages/tensorflow/python/keras/utils/losses_utils.py:170: to_float (from tensorflow.python.ops.math_ops) is deprecated and will be removed in a future version.\n",
      "Instructions for updating:\n",
      "Use tf.cast instead.\n"
     ]
    }
   ],
   "source": [
    "#Initialize Sequential Graph (model)\n",
    "model = tf.keras.models.Sequential()\n",
    "\n",
    "#Normalize input data\n",
    "model.add(tf.keras.layers.BatchNormalization(input_shape=(13,)))\n",
    "\n",
    "#Add Dense layer for prediction - Keras declares weights and bias automatically\n",
    "model.add(tf.keras.layers.Dense(1))\n",
    "\n",
    "#Compile the model - add Loss and Gradient Descent optimizer\n",
    "model.compile(optimizer='sgd', loss='mse')"
   ]
  },
  {
   "cell_type": "markdown",
   "metadata": {
    "slideshow": {
     "slide_type": "slide"
    }
   },
   "source": [
    "### Execute the Graph"
   ]
  },
  {
   "cell_type": "code",
   "execution_count": 8,
   "metadata": {
    "slideshow": {
     "slide_type": "fragment"
    }
   },
   "outputs": [
    {
     "name": "stdout",
     "output_type": "stream",
     "text": [
      "WARNING:tensorflow:From /Users/vaibhavverdhan/anaconda3/lib/python3.6/site-packages/tensorflow/python/ops/math_ops.py:3066: to_int32 (from tensorflow.python.ops.math_ops) is deprecated and will be removed in a future version.\n",
      "Instructions for updating:\n",
      "Use tf.cast instead.\n",
      "Epoch 1/100\n",
      "506/506 [==============================] - 0s 268us/sample - loss: 178.3683\n",
      "Epoch 2/100\n",
      "506/506 [==============================] - 0s 27us/sample - loss: 37.4353\n",
      "Epoch 3/100\n",
      "506/506 [==============================] - 0s 20us/sample - loss: 32.0817\n",
      "Epoch 4/100\n",
      "506/506 [==============================] - 0s 31us/sample - loss: 31.9676\n",
      "Epoch 5/100\n",
      "506/506 [==============================] - 0s 32us/sample - loss: 33.0069\n",
      "Epoch 6/100\n",
      "506/506 [==============================] - 0s 27us/sample - loss: 30.7340\n",
      "Epoch 7/100\n",
      "506/506 [==============================] - 0s 26us/sample - loss: 32.6721\n",
      "Epoch 8/100\n",
      "506/506 [==============================] - 0s 24us/sample - loss: 28.4217\n",
      "Epoch 9/100\n",
      "506/506 [==============================] - 0s 24us/sample - loss: 28.7717\n",
      "Epoch 10/100\n",
      "506/506 [==============================] - 0s 24us/sample - loss: 27.8305\n",
      "Epoch 11/100\n",
      "506/506 [==============================] - 0s 25us/sample - loss: 27.0511\n",
      "Epoch 12/100\n",
      "506/506 [==============================] - 0s 24us/sample - loss: 30.1976\n",
      "Epoch 13/100\n",
      "506/506 [==============================] - 0s 26us/sample - loss: 25.7281\n",
      "Epoch 14/100\n",
      "506/506 [==============================] - 0s 24us/sample - loss: 24.9579\n",
      "Epoch 15/100\n",
      "506/506 [==============================] - 0s 24us/sample - loss: 30.0027\n",
      "Epoch 16/100\n",
      "506/506 [==============================] - 0s 26us/sample - loss: 29.4737\n",
      "Epoch 17/100\n",
      "506/506 [==============================] - 0s 26us/sample - loss: 33.2045\n",
      "Epoch 18/100\n",
      "506/506 [==============================] - 0s 26us/sample - loss: 27.0932\n",
      "Epoch 19/100\n",
      "506/506 [==============================] - 0s 28us/sample - loss: 27.9249\n",
      "Epoch 20/100\n",
      "506/506 [==============================] - 0s 25us/sample - loss: 28.3040\n",
      "Epoch 21/100\n",
      "506/506 [==============================] - 0s 29us/sample - loss: 27.3688\n",
      "Epoch 22/100\n",
      "506/506 [==============================] - 0s 27us/sample - loss: 28.3894\n",
      "Epoch 23/100\n",
      "506/506 [==============================] - 0s 28us/sample - loss: 27.9508\n",
      "Epoch 24/100\n",
      "506/506 [==============================] - 0s 25us/sample - loss: 28.1968\n",
      "Epoch 25/100\n",
      "506/506 [==============================] - 0s 29us/sample - loss: 26.6365\n",
      "Epoch 26/100\n",
      "506/506 [==============================] - 0s 26us/sample - loss: 26.9321\n",
      "Epoch 27/100\n",
      "506/506 [==============================] - 0s 25us/sample - loss: 26.9919\n",
      "Epoch 28/100\n",
      "506/506 [==============================] - 0s 24us/sample - loss: 26.9043\n",
      "Epoch 29/100\n",
      "506/506 [==============================] - 0s 25us/sample - loss: 26.4511\n",
      "Epoch 30/100\n",
      "506/506 [==============================] - 0s 25us/sample - loss: 31.2304\n",
      "Epoch 31/100\n",
      "506/506 [==============================] - 0s 29us/sample - loss: 27.4394\n",
      "Epoch 32/100\n",
      "506/506 [==============================] - 0s 26us/sample - loss: 31.8860\n",
      "Epoch 33/100\n",
      "506/506 [==============================] - 0s 23us/sample - loss: 28.8350\n",
      "Epoch 34/100\n",
      "506/506 [==============================] - 0s 26us/sample - loss: 29.7706\n",
      "Epoch 35/100\n",
      "506/506 [==============================] - 0s 25us/sample - loss: 28.8220\n",
      "Epoch 36/100\n",
      "506/506 [==============================] - 0s 26us/sample - loss: 29.1910\n",
      "Epoch 37/100\n",
      "506/506 [==============================] - 0s 26us/sample - loss: 28.7249\n",
      "Epoch 38/100\n",
      "506/506 [==============================] - 0s 23us/sample - loss: 30.0110\n",
      "Epoch 39/100\n",
      "506/506 [==============================] - 0s 28us/sample - loss: 24.8901\n",
      "Epoch 40/100\n",
      "506/506 [==============================] - 0s 29us/sample - loss: 29.7248\n",
      "Epoch 41/100\n",
      "506/506 [==============================] - 0s 26us/sample - loss: 26.4624\n",
      "Epoch 42/100\n",
      "506/506 [==============================] - 0s 25us/sample - loss: 30.5137\n",
      "Epoch 43/100\n",
      "506/506 [==============================] - 0s 25us/sample - loss: 24.0984\n",
      "Epoch 44/100\n",
      "506/506 [==============================] - 0s 23us/sample - loss: 25.1431\n",
      "Epoch 45/100\n",
      "506/506 [==============================] - 0s 26us/sample - loss: 28.1887\n",
      "Epoch 46/100\n",
      "506/506 [==============================] - 0s 26us/sample - loss: 27.6326\n",
      "Epoch 47/100\n",
      "506/506 [==============================] - 0s 25us/sample - loss: 30.2621\n",
      "Epoch 48/100\n",
      "506/506 [==============================] - 0s 24us/sample - loss: 28.7990\n",
      "Epoch 49/100\n",
      "506/506 [==============================] - 0s 25us/sample - loss: 31.9019\n",
      "Epoch 50/100\n",
      "506/506 [==============================] - 0s 27us/sample - loss: 26.9132\n",
      "Epoch 51/100\n",
      "506/506 [==============================] - 0s 25us/sample - loss: 29.4733\n",
      "Epoch 52/100\n",
      "506/506 [==============================] - 0s 26us/sample - loss: 26.9994\n",
      "Epoch 53/100\n",
      "506/506 [==============================] - 0s 24us/sample - loss: 32.4078\n",
      "Epoch 54/100\n",
      "506/506 [==============================] - 0s 24us/sample - loss: 29.2289\n",
      "Epoch 55/100\n",
      "506/506 [==============================] - 0s 25us/sample - loss: 27.2929\n",
      "Epoch 56/100\n",
      "506/506 [==============================] - 0s 26us/sample - loss: 29.1809\n",
      "Epoch 57/100\n",
      "506/506 [==============================] - 0s 24us/sample - loss: 30.1500\n",
      "Epoch 58/100\n",
      "506/506 [==============================] - 0s 22us/sample - loss: 25.5856\n",
      "Epoch 59/100\n",
      "506/506 [==============================] - 0s 22us/sample - loss: 28.8072\n",
      "Epoch 60/100\n",
      "506/506 [==============================] - 0s 23us/sample - loss: 27.6729\n",
      "Epoch 61/100\n",
      "506/506 [==============================] - 0s 21us/sample - loss: 27.5505\n",
      "Epoch 62/100\n",
      "506/506 [==============================] - 0s 22us/sample - loss: 28.0484\n",
      "Epoch 63/100\n",
      "506/506 [==============================] - 0s 24us/sample - loss: 29.9798\n",
      "Epoch 64/100\n",
      "506/506 [==============================] - 0s 23us/sample - loss: 26.2766\n",
      "Epoch 65/100\n",
      "506/506 [==============================] - 0s 20us/sample - loss: 29.9866\n",
      "Epoch 66/100\n",
      "506/506 [==============================] - 0s 22us/sample - loss: 26.5106\n",
      "Epoch 67/100\n",
      "506/506 [==============================] - 0s 25us/sample - loss: 30.3126\n",
      "Epoch 68/100\n",
      "506/506 [==============================] - 0s 23us/sample - loss: 29.4785\n",
      "Epoch 69/100\n",
      "506/506 [==============================] - 0s 21us/sample - loss: 24.4840\n",
      "Epoch 70/100\n",
      "506/506 [==============================] - 0s 25us/sample - loss: 25.7566\n",
      "Epoch 71/100\n",
      "506/506 [==============================] - 0s 26us/sample - loss: 32.9083\n",
      "Epoch 72/100\n",
      "506/506 [==============================] - 0s 22us/sample - loss: 29.5415\n",
      "Epoch 73/100\n",
      "506/506 [==============================] - 0s 21us/sample - loss: 30.9162\n",
      "Epoch 74/100\n",
      "506/506 [==============================] - 0s 23us/sample - loss: 29.8253\n",
      "Epoch 75/100\n",
      "506/506 [==============================] - 0s 23us/sample - loss: 25.2570\n",
      "Epoch 76/100\n",
      "506/506 [==============================] - 0s 23us/sample - loss: 28.2597\n",
      "Epoch 77/100\n",
      "506/506 [==============================] - 0s 23us/sample - loss: 26.2057\n",
      "Epoch 78/100\n",
      "506/506 [==============================] - 0s 24us/sample - loss: 25.5188\n",
      "Epoch 79/100\n",
      "506/506 [==============================] - 0s 23us/sample - loss: 32.9857\n",
      "Epoch 80/100\n",
      "506/506 [==============================] - 0s 20us/sample - loss: 32.0585\n",
      "Epoch 81/100\n",
      "506/506 [==============================] - 0s 24us/sample - loss: 29.0527\n",
      "Epoch 82/100\n",
      "506/506 [==============================] - 0s 23us/sample - loss: 28.4638\n",
      "Epoch 83/100\n",
      "506/506 [==============================] - 0s 22us/sample - loss: 28.1522\n",
      "Epoch 84/100\n",
      "506/506 [==============================] - 0s 22us/sample - loss: 26.3537\n",
      "Epoch 85/100\n",
      "506/506 [==============================] - 0s 24us/sample - loss: 28.4278\n",
      "Epoch 86/100\n",
      "506/506 [==============================] - 0s 23us/sample - loss: 25.7180\n",
      "Epoch 87/100\n",
      "506/506 [==============================] - 0s 21us/sample - loss: 26.0113\n",
      "Epoch 88/100\n",
      "506/506 [==============================] - 0s 23us/sample - loss: 28.2286\n",
      "Epoch 89/100\n",
      "506/506 [==============================] - 0s 24us/sample - loss: 28.9925\n",
      "Epoch 90/100\n",
      "506/506 [==============================] - 0s 22us/sample - loss: 30.5818\n",
      "Epoch 91/100\n",
      "506/506 [==============================] - 0s 22us/sample - loss: 29.4199\n",
      "Epoch 92/100\n"
     ]
    },
    {
     "name": "stdout",
     "output_type": "stream",
     "text": [
      "506/506 [==============================] - 0s 23us/sample - loss: 25.9396\n",
      "Epoch 93/100\n",
      "506/506 [==============================] - 0s 24us/sample - loss: 29.3768\n",
      "Epoch 94/100\n",
      "506/506 [==============================] - 0s 22us/sample - loss: 23.9721\n",
      "Epoch 95/100\n",
      "506/506 [==============================] - 0s 23us/sample - loss: 28.6841\n",
      "Epoch 96/100\n",
      "506/506 [==============================] - 0s 21us/sample - loss: 28.1499\n",
      "Epoch 97/100\n",
      "506/506 [==============================] - 0s 21us/sample - loss: 27.7823\n",
      "Epoch 98/100\n",
      "506/506 [==============================] - 0s 22us/sample - loss: 29.0227\n",
      "Epoch 99/100\n",
      "506/506 [==============================] - 0s 21us/sample - loss: 29.9175\n",
      "Epoch 100/100\n",
      "506/506 [==============================] - 0s 21us/sample - loss: 25.1259\n"
     ]
    },
    {
     "data": {
      "text/plain": [
       "<tensorflow.python.keras.callbacks.History at 0xb25b35828>"
      ]
     },
     "execution_count": 8,
     "metadata": {},
     "output_type": "execute_result"
    }
   ],
   "source": [
    "model.fit(features, actual_prices, epochs=100)"
   ]
  },
  {
   "cell_type": "markdown",
   "metadata": {
    "slideshow": {
     "slide_type": "slide"
    }
   },
   "source": [
    "### Save the model"
   ]
  },
  {
   "cell_type": "code",
   "execution_count": 9,
   "metadata": {
    "slideshow": {
     "slide_type": "fragment"
    }
   },
   "outputs": [],
   "source": [
    "model.save('/tmp/boston_housing_lr.h5')"
   ]
  }
 ],
 "metadata": {
  "kernelspec": {
   "display_name": "Python 3",
   "language": "python",
   "name": "python3"
  },
  "language_info": {
   "codemirror_mode": {
    "name": "ipython",
    "version": 3
   },
   "file_extension": ".py",
   "mimetype": "text/x-python",
   "name": "python",
   "nbconvert_exporter": "python",
   "pygments_lexer": "ipython3",
   "version": "3.6.8"
  }
 },
 "nbformat": 4,
 "nbformat_minor": 2
}
